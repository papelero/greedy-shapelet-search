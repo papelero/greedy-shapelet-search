{
 "cells": [
  {
   "cell_type": "code",
   "execution_count": 3,
   "metadata": {},
   "outputs": [
    {
     "name": "stderr",
     "output_type": "stream",
     "text": [
      "/Users/stefan-temp/Desktop/General/Privat/greedy-shapelet-search/venv-hyp-mar/lib/python3.9/site-packages/mass_ts/_mass_ts.py:17: UserWarning: GPU support will not work. You must pip install mass-ts[gpu].\n",
      "  warnings.warn(\n"
     ]
    }
   ],
   "source": [
    "from pyts.datasets import load_gunpoint\n",
    "import matplotlib.pyplot as plt\n",
    "import numpy as np\n",
    "import mass_ts as mts\n",
    "\n",
    "from sklearn.pipeline import make_pipeline\n",
    "from sklearn.preprocessing import StandardScaler\n",
    "from sklearn.svm import SVC\n",
    "from sklearn.tree import DecisionTreeClassifier\n",
    "\n",
    "from sklearn import svm\n",
    "from sklearn.metrics import f1_score\n",
    "\n",
    "import scipy.stats as sps\n",
    "\n",
    "import pandas as pd\n",
    "\n",
    "from sklearn.pipeline import make_pipeline\n",
    "from sklearn.preprocessing import StandardScaler\n",
    "from sklearn.svm import SVC\n",
    "from scipy.special import entr"
   ]
  },
  {
   "cell_type": "code",
   "execution_count": 4,
   "metadata": {},
   "outputs": [],
   "source": [
    "X_train, X_test, y_train, y_test = load_gunpoint(return_X_y=True)"
   ]
  },
  {
   "cell_type": "code",
   "execution_count": 26,
   "metadata": {},
   "outputs": [
    {
     "name": "stdout",
     "output_type": "stream",
     "text": [
      "CPU times: user 57 s, sys: 8.53 s, total: 1min 5s\n",
      "Wall time: 1min 5s\n"
     ]
    }
   ],
   "source": [
    "%%time\n",
    "\n",
    "class ShapeletTransform():\n",
    "    def __init__(self):\n",
    "        self.shapelets = []\n",
    "        self.exclusion_zone = {}\n",
    "        self.shapelet_size = 0\n",
    "\n",
    "    @staticmethod\n",
    "    def rolling_window(a, window):\n",
    "        shape = a.shape[:-1] + (a.shape[-1] - window + 1, window)\n",
    "        strides = a.strides + (a.strides[-1],)\n",
    "        return np.lib.stride_tricks.as_strided(a, shape=shape, strides=strides)\n",
    "\n",
    "    \n",
    "    def get_candidate_mins(self, sample_data, shapelet_size = 10):\n",
    "        \"\"\"\n",
    "        Function that calculates the distance of all candidates of a given data set to all all other candidates.\n",
    "        CAREFUL:\n",
    "        - memory blows up quickly.\n",
    "        - contains the zeros (distance of candidates to itself)\n",
    "        \"\"\"\n",
    "        # Window the array\n",
    "        windowed_data = self.rolling_window(sample_data, shapelet_size)\n",
    "        # Standardize candidates\n",
    "        windowed_data = self.standardize_samples_candidates(windowed_data)\n",
    "        distances = []\n",
    "        for sample_candidates in windowed_data:\n",
    "            candidate_distances = np.array([((windowed_data - candidate)**2).sum(axis=-1).min(axis=-1) for candidate in sample_candidates])\n",
    "            distances.append(candidate_distances)\n",
    "        return np.stack(distances)\n",
    "        # print(np.stack(distances).shape)\n",
    "        # return np.array([abs(windowed_data - series).sum(axis=-1) for series in windowed_data])\n",
    "    \n",
    "\n",
    "    def get_top_k_shapelets(self, X_train, y_train, n_shapelets=1, shapelet_min_size = 10, shapelet_max_size=20):\n",
    "\n",
    "        top_shapelets = []\n",
    "        for shapelet_size in range(shapelet_min_size,shapelet_max_size):\n",
    "            self.main_event_loop(X_train, y_train, n_shapelets, shapelet_size)\n",
    "            top_shapelets.extend([(sample_idx, candidate_idx, info_gain, margin, shapelet, shapelet_size) for sample_idx, candidate_idx, info_gain, margin, shapelet in self.top_shapelets])\n",
    "        self.shapelets = top_shapelets\n",
    "        self.shapelets.sort(key=lambda x: (x[2],x[3]), reverse=True)\n",
    "\n",
    "        self.exclusion_zone = {}\n",
    "        # Apply exclusion zone and selecting the top n_shapelets\n",
    "        top_shapelets = []\n",
    "        n_shapelets_found = 0\n",
    "        # Iterate over all shapelet candidates\n",
    "        for sample_idx, candidate_idx, info_gain, margin, shapelet, shapelet_size in self.shapelets:\n",
    "            # If the correct number of shapelets was found, break out of loop\n",
    "            if n_shapelets_found == n_shapelets:\n",
    "                break\n",
    "            # Check if sample index of candidate in exclusion zone samples\n",
    "            if sample_idx not in self.exclusion_zone.keys():\n",
    "                self.exclusion_zone[sample_idx] = []\n",
    "            else:\n",
    "                # Otherwise check if candidate index is in exclusion zone of sample\n",
    "                if candidate_idx in self.exclusion_zone[sample_idx]:\n",
    "                    continue\n",
    "            self.exclusion_zone[sample_idx].extend(list(range(candidate_idx - self.shapelet_size, candidate_idx+self.shapelet_size)))\n",
    "            top_shapelets.append((sample_idx, candidate_idx, info_gain, margin, shapelet, shapelet_size))\n",
    "            n_shapelets_found += 1\n",
    "        self.top_shapelets = top_shapelets\n",
    "\n",
    "\n",
    "\n",
    "\n",
    "    def main_event_loop(self, X_train, y_train, n_shapelets=1, shapelet_size = 10):\n",
    "        \"\"\"\n",
    "        The main event loop contains the series of steps required for the algorithm.\n",
    "        \"\"\"\n",
    "        # Store shapelet size\n",
    "        self.shapelet_size = shapelet_size\n",
    "        # Calculate all of the candidate minimums throughout the dataset - shape: n_samples, n_samples, n_candidate\n",
    "        profiles = self.get_candidate_mins(X_train, shapelet_size)\n",
    "        # Extract a shapelet for n_shapelets\n",
    "        self.extract_shapelets(profiles, X_train, y_train)\n",
    "        # Sort shapelets according to info gain descending\n",
    "        self.shapelets.sort(key=lambda x: (x[2],x[3]), reverse=True)\n",
    "        # Retrieve top shapelets\n",
    "        self.retrieve_top_shapelets(X_train, n_shapelets)\n",
    "\n",
    "\n",
    "    def retrieve_top_shapelets(self, X_train, n_shapelets):\n",
    "        # Apply exclusion zone and selecting the top n_shapelets\n",
    "        top_shapelets = []\n",
    "        n_shapelets_found = 0\n",
    "        self.exclusion_zone = {}\n",
    "        # Iterate over all shapelet candidates\n",
    "        for sample_idx, candidate_idx, info_gain, margin in self.shapelets:\n",
    "            # If the correct number of shapelets was found, break out of loop\n",
    "            if n_shapelets_found == n_shapelets:\n",
    "                break\n",
    "            # Check if sample index of candidate in exclusion zone samples\n",
    "            if sample_idx not in self.exclusion_zone.keys():\n",
    "                self.exclusion_zone[sample_idx] = []\n",
    "            else:\n",
    "                # Otherwise check if candidate index is in exclusion zone of sample\n",
    "                if candidate_idx in self.exclusion_zone[sample_idx]:\n",
    "                    continue\n",
    "            self.exclusion_zone[sample_idx].extend(list(range(candidate_idx - self.shapelet_size, candidate_idx+self.shapelet_size)))\n",
    "            top_shapelets.append((sample_idx, candidate_idx, info_gain, margin, X_train[sample_idx,candidate_idx:candidate_idx+self.shapelet_size]))\n",
    "            n_shapelets_found += 1\n",
    "        self.top_shapelets = top_shapelets\n",
    "\n",
    "    def extract_shapelets(self, profiles, X_train, y_train):\n",
    "        \"\"\"\n",
    "        Extracts a (greedy) optimal shapelet.\n",
    "        \"\"\"\n",
    "        # Iterate through all samples in profiles\n",
    "        for sample_idx in range(profiles.shape[0]):\n",
    "            # The minimum distances of the given samples candidates to all other samples - shape: n_samples, n_candidates\n",
    "            sample = profiles[sample_idx]\n",
    "            # Iterate through all candidate distances of the given sample\n",
    "            for candidate_idx in range(sample.shape[0]):\n",
    "                # The minimum distances of a candidate to all other samples\n",
    "                candidate = sample[candidate_idx,:]\n",
    "                # Score candidate\n",
    "                info_gain, margin = self.calculate_infogain(candidate.reshape((50,1)), y_train)\n",
    "                self.shapelets.append((sample_idx, candidate_idx, info_gain, margin))\n",
    "                \n",
    "\n",
    "    def calculate_infogain(self, candidate, y_train):\n",
    "        \"\"\"\n",
    "        Given a 1-d array, calculates the infogain according the labels y_train.\n",
    "        \"\"\"\n",
    "        # Initialize decision tree classifier\n",
    "        clf = DecisionTreeClassifier(random_state=0, criterion='entropy', max_depth=1)\n",
    "        # Fit decision tree\n",
    "        clf.fit(candidate, y_train)\n",
    "        # Get entropy before best split\n",
    "        entropy_before = clf.tree_.impurity[0]\n",
    "        # Get entropy after best split\n",
    "        entropy_after = clf.tree_.value.sum(-1)[1]/clf.tree_.value.sum(-1)[0] * clf.tree_.impurity[1] + \\\n",
    "            clf.tree_.value.sum(-1)[2]/clf.tree_.value.sum(-1)[0] * clf.tree_.impurity[2]\n",
    "\n",
    "        # Calculate margin\n",
    "        if len(set(y_train)) != 2:\n",
    "            print(f\"There is something wrong with the number of labels! The number o labels is {len(set(y_train))}.\")\n",
    "            raise ValueError\n",
    "        label_avgs = [candidate[y_train==label].mean() for label in set(y_train)]\n",
    "        margin = abs(label_avgs[0]-label_avgs[1])\n",
    "        # Return information gain\n",
    "        return entropy_before - entropy_after, margin\n",
    "\n",
    "    @staticmethod\n",
    "    def standardize_samples_candidates(samples, axis=2):\n",
    "        \"\"\"\n",
    "        Standardized each shapelet candidate (after windowing).\n",
    "        \"\"\"\n",
    "        return (samples-np.expand_dims(samples.mean(axis=axis),axis))/np.expand_dims(samples.std(axis=axis),axis)\n",
    "\n",
    "    def fit_classifier(self, X_train, y_train, X_test, y_test, classifier, scoring_function):\n",
    "        \"\"\"\n",
    "        Tests the performance of a classifier that is first trained  and then tested according to a specified scoring function.\n",
    "        \"\"\"\n",
    "        features_train = self.features_transform(X_train)\n",
    "        classifier.fit(X_train, y_train)\n",
    "        features_test = self.features_transform(X_test)\n",
    "        y_pred = classifier.predict(X_test)\n",
    "        return scoring_function(y_test, y_pred)\n",
    "\n",
    "\n",
    "    def features_transform(self,X):\n",
    "        \"\"\"\n",
    "        Transformation pipeline for a new dataset X\n",
    "        \"\"\"\n",
    "        # Retrieve all shapelets\n",
    "        shapelets = np.array([shapelet[3] for shapelet in self.top_shapelets])\n",
    "        # Standardize the shapelets\n",
    "        shapelets_norm = self.standardize_samples_candidates(shapelets.T,axis=1).T\n",
    "        # Window the data\n",
    "        windowed_test = self.rolling_window(X, window=self.shapelet_size)\n",
    "        # Normalize the windowed data\n",
    "        windowed_test_norm = self.standardize_samples_candidates(windowed_test)\n",
    "        # Calculate the features (get min shapelet distances of all shapelets to all samples)\n",
    "        features_list = [(windowed_test_norm-shapelet).sum(axis=-1).min(axis=-1) for shapelet in shapelets_norm]\n",
    "        features = np.array(features_list).T\n",
    "        return features\n",
    "\n",
    "ST = ShapeletTransform()\n",
    "# ST.main_event_loop(X_train, y_train, n_shapelets=5, shapelet_size=38)\n",
    "ST.get_top_k_shapelets(X_train, y_train, n_shapelets=10, shapelet_min_size = 30, shapelet_max_size=40)"
   ]
  },
  {
   "cell_type": "code",
   "execution_count": 8,
   "metadata": {},
   "outputs": [
    {
     "data": {
      "text/plain": "[(8,\n  105,\n  array([0.99884554]),\n  31.226651089786735,\n  array([-0.95079668, -1.025098  , -1.0767507 , -1.107045  , -1.1150216 ,\n         -1.1150928 , -1.1104016 , -1.0952914 , -1.0770713 , -1.0687018 ,\n         -1.0613745 , -1.0540497 , -1.0526052 , -1.0526178 , -1.0475158 ,\n         -1.0476689 , -1.0467752 , -1.0454486 , -1.0467271 , -1.0453529 ,\n         -1.0457445 , -1.043518  , -1.043689  , -1.0445401 , -1.0436696 ,\n         -1.0458034 , -1.0458095 , -1.0461388 , -1.0479577 , -1.0483777 ,\n         -1.0483875 , -1.0516842 , -1.0501935 , -1.048496  , -1.0481063 ,\n         -1.0516028 , -1.0465114 , -1.0488709 , -1.0462954 ]),\n  39),\n (5,\n  100,\n  array([0.99884554]),\n  22.34179593514275,\n  array([-0.56701653, -0.65346671, -0.72769203, -0.78754067, -0.81694721,\n         -0.82648644, -0.81580046, -0.8024913 , -0.79366331, -0.78399394,\n         -0.76841397, -0.75374622, -0.73558646, -0.71730275, -0.7113566 ,\n         -0.70475488, -0.69913498, -0.69454494, -0.69617677, -0.69751363,\n         -0.69542073, -0.69483611, -0.69240789, -0.69154469, -0.69022442,\n         -0.68777428, -0.68893514, -0.69030651, -0.69122396, -0.68948802,\n         -0.69331829, -0.69250772, -0.69361385, -0.69989093, -0.6990896 ,\n         -0.70145813, -0.70064573, -0.69944455, -0.70205219]),\n  39),\n (44,\n  109,\n  array([0.99884554]),\n  20.841127341313403,\n  array([-1.0357492, -1.1564807, -1.2064766, -1.2260795, -1.2375236,\n         -1.2367227, -1.2349162, -1.2332476, -1.2203596, -1.2079941,\n         -1.1780403, -1.1643885, -1.1556267, -1.15053  , -1.1404345,\n         -1.1418992, -1.1412623, -1.1411228, -1.1405456, -1.1456379,\n         -1.1443796, -1.1434884, -1.1446516, -1.1436344, -1.1437508,\n         -1.1413574, -1.1413895, -1.1442509, -1.1431611, -1.1474163,\n         -1.1477535, -1.1499787, -1.1475453, -1.149843 , -1.1515444,\n         -1.1527486, -1.150443 , -1.1502104, -1.1528985]),\n  39)]"
     },
     "execution_count": 8,
     "metadata": {},
     "output_type": "execute_result"
    }
   ],
   "source": [
    "ST.top_shapelets"
   ]
  },
  {
   "cell_type": "code",
   "execution_count": 21,
   "metadata": {},
   "outputs": [
    {
     "name": "stdout",
     "output_type": "stream",
     "text": [
      "(50, 3)\n"
     ]
    },
    {
     "data": {
      "text/plain": "0.8654970760233919"
     },
     "execution_count": 21,
     "metadata": {},
     "output_type": "execute_result"
    }
   ],
   "source": [
    "# \n",
    "ST.top_shapelets\n",
    "\n",
    "# features = ST.features_transform(X_train)\n",
    "# features.shape\n",
    "\n",
    "\n",
    "def features_transform(X_train, X):\n",
    "    \"\"\"\n",
    "    Transformation pipeline for a new dataset X\n",
    "    \"\"\"\n",
    "    features =  []\n",
    "    for sample_idx, candidate_idx, _,_,_, shapelet_size in ST.top_shapelets[:3]:\n",
    "        # Extract shapelet from training data\n",
    "        shapelet = X_train[sample_idx, candidate_idx:candidate_idx+shapelet_size]\n",
    "        # Normalize shapelet\n",
    "        shapelet_norm = ST.standardize_samples_candidates(shapelet, axis=0)\n",
    "        # Window the data\n",
    "        windowed_test = ST.rolling_window(X, window=shapelet_size)\n",
    "        # Normalize the windowed data\n",
    "        windowed_test_norm = ST.standardize_samples_candidates(windowed_test)\n",
    "        # Calculate features for shapelet and X\n",
    "        shapelet_features = ((windowed_test_norm-shapelet_norm)**2).sum(axis=-1).min(axis=-1)\n",
    "        features.append(shapelet_features)\n",
    "    return np.array(features).T\n",
    "\n",
    "features = features_transform(X_train, X_train)\n",
    "print(features.shape)\n",
    "# print(features)\n",
    "\n",
    "\n",
    "def fit_classifier(X_train, y_train, X_test, y_test, classifier, scoring_function):\n",
    "    \"\"\"\n",
    "    Tests the performance of a classifier that is first trained  and then tested according to a specified scoring function.\n",
    "    \"\"\"\n",
    "    features_train = features_transform(X_train, X_train)\n",
    "    features_test = features_transform(X_train, X_test)\n",
    "    features_train_norm, features_test_norm = feature_normalization(features_train, features_test)\n",
    "    classifier.fit(features_train_norm, y_train)\n",
    "    y_pred = classifier.predict(features_test_norm)\n",
    "    return scoring_function(y_test, y_pred)\n",
    "\n",
    "def feature_normalization(features_train, features_test):\n",
    "    features_train_norm = (features_train-features_train.mean(axis=0))/features_train.std(axis=0)\n",
    "    features_test_norm = (features_test-features_train.mean(axis=0))/features_train.std(axis=0)\n",
    "    return features_train_norm, features_test_norm\n",
    "\n",
    "\n",
    "\n",
    "from sklearn.svm import SVC\n",
    "from sklearn.tree import DecisionTreeClassifier\n",
    "from sklearn.metrics import f1_score\n",
    "\n",
    "# clf = SVC(kernel='linear')\n",
    "clf = make_pipeline(StandardScaler(), SVC(kernel='linear',class_weight='balanced'))\n",
    "\n",
    "\n",
    "\n",
    "fit_classifier(X_train, y_train, X_test, y_test, clf, f1_score)"
   ]
  },
  {
   "cell_type": "code",
   "execution_count": 22,
   "metadata": {},
   "outputs": [],
   "source": [
    "shapelets = np.array([x[4] for x in ST.top_shapelets])"
   ]
  },
  {
   "cell_type": "code",
   "execution_count": 25,
   "metadata": {},
   "outputs": [
    {
     "data": {
      "text/plain": "[<matplotlib.lines.Line2D at 0x13437bb50>,\n <matplotlib.lines.Line2D at 0x13437bd30>,\n <matplotlib.lines.Line2D at 0x13437b5b0>]"
     },
     "execution_count": 25,
     "metadata": {},
     "output_type": "execute_result"
    },
    {
     "data": {
      "image/png": "[encoded data removed]",
      "text/plain": "<Figure size 432x288 with 1 Axes>"
     },
     "metadata": {
      "needs_background": "light"
     },
     "output_type": "display_data"
    }
   ],
   "source": [
    "plt.plot(shapelets.T)"
   ]
  },
  {
   "cell_type": "code",
   "execution_count": null,
   "metadata": {},
   "outputs": [],
   "source": []
  }
 ],
 "metadata": {
  "kernelspec": {
   "display_name": "Python 3 (ipykernel)",
   "language": "python",
   "name": "python3"
  },
  "language_info": {
   "codemirror_mode": {
    "name": "ipython",
    "version": 3
   },
   "file_extension": ".py",
   "mimetype": "text/x-python",
   "name": "python",
   "nbconvert_exporter": "python",
   "pygments_lexer": "ipython3",
   "version": "3.9.5"
  },
  "orig_nbformat": 2
 },
 "nbformat": 4,
 "nbformat_minor": 2
}